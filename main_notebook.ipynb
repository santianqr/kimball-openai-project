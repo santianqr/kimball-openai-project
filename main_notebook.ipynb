{
 "cells": [
  {
   "cell_type": "code",
   "execution_count": 2,
   "metadata": {},
   "outputs": [],
   "source": [
    "from src import db, processor, model, loader, generator"
   ]
  },
  {
   "cell_type": "code",
   "execution_count": null,
   "metadata": {},
   "outputs": [],
   "source": [
    "print('🟢Starting ETL process')\n",
    "\n",
    "# Define the file path for the raw data\n",
    "file_path = \"data/raw/Invoices_Year_2009-2010.csv\"\n",
    "\n",
    "# Clean and process the raw data\n",
    "df = processor.process_data(file_path)"
   ]
  },
  {
   "cell_type": "code",
   "execution_count": null,
   "metadata": {},
   "outputs": [],
   "source": [
    "# Create the table invoices in PostgreSQL\n",
    "db.upsert_table(df, \"invoices\")"
   ]
  },
  {
   "cell_type": "code",
   "execution_count": null,
   "metadata": {},
   "outputs": [],
   "source": [
    "# Execute a base SQL query and get the data to provide to the model\n",
    "df_clean = db.execute_sql_file(\"src/utils/queries/base_query.sql\")"
   ]
  },
  {
   "cell_type": "code",
   "execution_count": null,
   "metadata": {},
   "outputs": [],
   "source": [
    "# Generate the data model from the data (Kimball model)\n",
    "dim_product, dim_customer, dim_date, dim_country, fact_sales = model.generate_model(\n",
    "    df_clean\n",
    ")"
   ]
  },
  {
   "cell_type": "code",
   "execution_count": null,
   "metadata": {},
   "outputs": [],
   "source": [
    "# Upload the generated data model to PostgreSQL\n",
    "loader.upload_model(dim_product, dim_customer, dim_date, dim_country, fact_sales)\n",
    "\n",
    "print('🟢ETL process completed')"
   ]
  },
  {
   "cell_type": "code",
   "execution_count": 7,
   "metadata": {},
   "outputs": [
    {
     "name": "stdout",
     "output_type": "stream",
     "text": [
      "🕒Now the aggregations of data, detailed comments on each file of queries\n",
      "📄 Executing SQL file: src/utils/queries/growth_yoy_by_country.sql...\n",
      "🔒 Connection closed\n",
      "First aggregation of data\n",
      "                 country  current_year  sales_current_year  \\\n",
      "0         United Kingdom          2010         7572513.803   \n",
      "1            Switzerland          2010           42754.010   \n",
      "2                 Poland          2010            2943.130   \n",
      "3               Portugal          2010           20943.650   \n",
      "4                 Norway          2010            3594.260   \n",
      "5              Australia          2010           30001.550   \n",
      "6                Belgium          2010           22196.430   \n",
      "7                Austria          2010           11024.940   \n",
      "8                  Japan          2010            8644.710   \n",
      "9                  Italy          2010           13376.190   \n",
      "10               Denmark          2010           45588.490   \n",
      "11                   USA          2010            4414.620   \n",
      "12                 Spain          2010           29133.300   \n",
      "13                France          2010          125106.510   \n",
      "14                Greece          2010           13674.020   \n",
      "15       Channel Islands          2010           20421.940   \n",
      "16               Nigeria          2010             140.390   \n",
      "17                Sweden          2010           50930.310   \n",
      "18               Germany          2010          186404.381   \n",
      "19                  EIRE          2010          332856.360   \n",
      "20           Netherlands          2010          248657.030   \n",
      "21  United Arab Emirates          2010            7566.830   \n",
      "22                Cyprus          2010            7764.020   \n",
      "23               Finland          2010            6638.630   \n",
      "\n",
      "    sales_previous_year growth_percentage  \n",
      "0             724625.73           945.02%  \n",
      "1                589.40          7153.82%  \n",
      "2                371.82           691.55%  \n",
      "3               2821.58           642.27%  \n",
      "4                485.31           640.61%  \n",
      "5                 50.25         59604.58%  \n",
      "6                447.60          4858.99%  \n",
      "7               1998.34           451.70%  \n",
      "8               -208.75         -4241.18%  \n",
      "9                398.20          3259.16%  \n",
      "10              1384.46          3192.87%  \n",
      "11               141.00          3030.94%  \n",
      "12              7918.83           267.90%  \n",
      "13              5555.04          2152.13%  \n",
      "14               610.95          2138.16%  \n",
      "15               945.38          2060.18%  \n",
      "16              -147.05          -195.47%  \n",
      "17               259.80         19503.66%  \n",
      "18              9516.04          1858.84%  \n",
      "19             19127.94          1640.16%  \n",
      "20             15204.73          1535.39%  \n",
      "21               479.54          1477.94%  \n",
      "22              3409.78           127.70%  \n",
      "23               549.08          1109.05%  \n"
     ]
    }
   ],
   "source": [
    "print(\"🕒Now the aggregations of data, detailed comments on each file of queries\")\n",
    "# Aggregations \n",
    "df_agg_1 = db.execute_sql_file(\"src/utils/queries/growth_yoy_by_country.sql\")\n",
    "print(\"First aggregation of data\")\n",
    "print(df_agg_1)\n",
    "# df_agg_2 = db.execute_sql_file(\"src/utils/queries/cohort_analysis.sql\")\n",
    "# print(\"Second aggregation of data\")\n",
    "# print(df_agg_2)\n",
    "# df_agg_3 = db.execute_sql_file(\"src/utils/queries/classification_products.sql\")\n",
    "# print(\"Third aggregation of data\")\n",
    "# print(df_agg_3)"
   ]
  },
  {
   "cell_type": "code",
   "execution_count": null,
   "metadata": {},
   "outputs": [],
   "source": [
    "print(\"⚠️Now try the generator with some queries, the generator use the data from the database\")\n",
    "# BETA MODE: Generate the table from input of the user\n",
    "# use for simple queries\n",
    "# try: \"top 10 products sold in December 2009\"\n",
    "\n",
    "user_query = \"top 10 products sold in December 2009\"\n",
    "df_generated = generator.generate_table(user_query)\n",
    "print(df_generated)"
   ]
  },
  {
   "cell_type": "code",
   "execution_count": 8,
   "metadata": {},
   "outputs": [
    {
     "name": "stdout",
     "output_type": "stream",
     "text": [
      "🔒 Connection closed\n",
      "     table_name\n",
      "0   dim_product\n",
      "1  dim_customer\n",
      "2      dim_date\n",
      "3    test_table\n",
      "4   dim_country\n",
      "5      invoices\n",
      "6    fact_sales\n"
     ]
    }
   ],
   "source": [
    "print(db.execute_query(\"select table_name from information_schema.tables where table_schema='public'\"))"
   ]
  },
  {
   "cell_type": "code",
   "execution_count": 9,
   "metadata": {},
   "outputs": [
    {
     "name": "stdout",
     "output_type": "stream",
     "text": [
      "✅ Query executed successfully\n",
      "🔒 Connection closed\n",
      "✅ Query executed successfully\n",
      "🔒 Connection closed\n",
      "✅ Query executed successfully\n",
      "🔒 Connection closed\n",
      "✅ Query executed successfully\n",
      "🔒 Connection closed\n",
      "✅ Query executed successfully\n",
      "🔒 Connection closed\n",
      "✅ Query executed successfully\n",
      "🔒 Connection closed\n",
      "✅ Query executed successfully\n",
      "🔒 Connection closed\n"
     ]
    }
   ],
   "source": [
    "db.execute_query(\"DROP TABLE invoices\")\n",
    "db.execute_query(\"DROP TABLE dim_product\")\n",
    "db.execute_query(\"DROP TABLE dim_customer\")\n",
    "db.execute_query(\"DROP TABLE dim_date\")\n",
    "db.execute_query(\"DROP TABLE dim_country\")\n",
    "db.execute_query(\"DROP TABLE fact_sales\")\n",
    "db.execute_query(\"DROP TABLE test_table\")"
   ]
  }
 ],
 "metadata": {
  "kernelspec": {
   "display_name": "venv",
   "language": "python",
   "name": "python3"
  },
  "language_info": {
   "codemirror_mode": {
    "name": "ipython",
    "version": 3
   },
   "file_extension": ".py",
   "mimetype": "text/x-python",
   "name": "python",
   "nbconvert_exporter": "python",
   "pygments_lexer": "ipython3",
   "version": "3.12.2"
  }
 },
 "nbformat": 4,
 "nbformat_minor": 2
}
