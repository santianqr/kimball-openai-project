{
 "cells": [
  {
   "cell_type": "code",
   "execution_count": 2,
   "metadata": {},
   "outputs": [],
   "source": [
    "from src import db, processor, model, loader, generator"
   ]
  },
  {
   "cell_type": "code",
   "execution_count": null,
   "metadata": {},
   "outputs": [],
   "source": [
    "print('🟢Starting ETL process')\n",
    "\n",
    "# Define the file path for the raw data\n",
    "file_path = \"data/raw/Invoices_Year_2009-2010.csv\"\n",
    "\n",
    "# Clean and process the raw data\n",
    "df = processor.process_data(file_path)"
   ]
  },
  {
   "cell_type": "code",
   "execution_count": null,
   "metadata": {},
   "outputs": [],
   "source": [
    "# Create the table invoices in PostgreSQL\n",
    "db.upsert_table(df, \"invoices\")"
   ]
  },
  {
   "cell_type": "code",
   "execution_count": null,
   "metadata": {},
   "outputs": [],
   "source": [
    "# Execute a base SQL query and get the data to provide to the model\n",
    "df_clean = db.execute_sql_file(\"src/utils/queries/base_query.sql\")"
   ]
  },
  {
   "cell_type": "code",
   "execution_count": null,
   "metadata": {},
   "outputs": [],
   "source": [
    "# Generate the data model from the data (Kimball model)\n",
    "dim_product, dim_customer, dim_date, dim_country, fact_sales = model.generate_model(\n",
    "    df_clean\n",
    ")"
   ]
  },
  {
   "cell_type": "code",
   "execution_count": null,
   "metadata": {},
   "outputs": [],
   "source": [
    "# Upload the generated data model to PostgreSQL\n",
    "loader.upload_model(dim_product, dim_customer, dim_date, dim_country, fact_sales)\n",
    "\n",
    "print('🟢ETL process completed')"
   ]
  },
  {
   "cell_type": "code",
   "execution_count": null,
   "metadata": {},
   "outputs": [],
   "source": [
    "print(\"🕒Now the aggregations of data, detailed comments on each file of queries\")\n",
    "# Aggregations \n",
    "df_agg_1 = db.execute_sql_file(\"src/utils/queries/growth_yoy_by_country.sql\")\n",
    "print(\"First aggregation of data\")\n",
    "print(df_agg_1)\n",
    "df_agg_2 = db.execute_sql_file(\"src/utils/queries/cohort_analysis.sql\")\n",
    "print(\"Second aggregation of data\")\n",
    "print(df_agg_2)\n",
    "df_agg_3 = db.execute_sql_file(\"src/utils/queries/classification_products.sql\")\n",
    "print(\"Third aggregation of data\")\n",
    "print(df_agg_3)"
   ]
  },
  {
   "cell_type": "code",
   "execution_count": null,
   "metadata": {},
   "outputs": [],
   "source": [
    "print(\"⚠️Now try the generator with some queries, the generator use the data from the database\")\n",
    "# BETA MODE: Generate the table from input of the user\n",
    "# use for simple queries\n",
    "# try: \"top 10 products sold in December 2009\"\n",
    "\n",
    "user_query = \"top 10 products sold in December 2009\"\n",
    "df_generated = generator.generate_table(user_query)\n",
    "print(df_generated)"
   ]
  },
  {
   "cell_type": "code",
   "execution_count": 3,
   "metadata": {},
   "outputs": [
    {
     "name": "stdout",
     "output_type": "stream",
     "text": [
      "🔒 Connection closed\n",
      "     table_name\n",
      "0      dim_date\n",
      "1   dim_country\n",
      "2    test_table\n",
      "3      invoices\n",
      "4    fact_sales\n",
      "5   dim_product\n",
      "6  dim_customer\n"
     ]
    }
   ],
   "source": [
    "print(db.execute_query(\"select table_name from information_schema.tables where table_schema='public'\"))"
   ]
  },
  {
   "cell_type": "code",
   "execution_count": 4,
   "metadata": {},
   "outputs": [
    {
     "name": "stdout",
     "output_type": "stream",
     "text": [
      "✅ Query executed successfully\n",
      "🔒 Connection closed\n",
      "✅ Query executed successfully\n",
      "🔒 Connection closed\n",
      "✅ Query executed successfully\n",
      "🔒 Connection closed\n",
      "✅ Query executed successfully\n",
      "🔒 Connection closed\n",
      "✅ Query executed successfully\n",
      "🔒 Connection closed\n",
      "✅ Query executed successfully\n",
      "🔒 Connection closed\n",
      "✅ Query executed successfully\n",
      "🔒 Connection closed\n"
     ]
    }
   ],
   "source": [
    "db.execute_query(\"DROP TABLE invoices\")\n",
    "db.execute_query(\"DROP TABLE dim_product\")\n",
    "db.execute_query(\"DROP TABLE dim_customer\")\n",
    "db.execute_query(\"DROP TABLE dim_date\")\n",
    "db.execute_query(\"DROP TABLE dim_country\")\n",
    "db.execute_query(\"DROP TABLE fact_sales\")\n",
    "db.execute_query(\"DROP TABLE test_table\")"
   ]
  }
 ],
 "metadata": {
  "kernelspec": {
   "display_name": "venv",
   "language": "python",
   "name": "python3"
  },
  "language_info": {
   "codemirror_mode": {
    "name": "ipython",
    "version": 3
   },
   "file_extension": ".py",
   "mimetype": "text/x-python",
   "name": "python",
   "nbconvert_exporter": "python",
   "pygments_lexer": "ipython3",
   "version": "3.12.2"
  }
 },
 "nbformat": 4,
 "nbformat_minor": 2
}
