{
 "cells": [
  {
   "cell_type": "markdown",
   "metadata": {},
   "source": [
    "## Main Process"
   ]
  },
  {
   "cell_type": "code",
   "execution_count": null,
   "metadata": {},
   "outputs": [],
   "source": [
    "from src import db, processor, model, loader, generator\n",
    "\n",
    "print(\"🟢Starting ETL process\")\n",
    "\n",
    "# Define the file path for the raw data\n",
    "file_path = \"data/raw/Invoices_Year_2009-2010.csv\"\n",
    "\n",
    "print(\"🧹 Cleaning the raw data\")\n",
    "# Clean and process the raw data\n",
    "df = processor.process_data(file_path)\n",
    "\n",
    "print('###########################################################################################')\n",
    "# Create the table invoices in PostgreSQL\n",
    "print(\"🆙 Uploading the cleaning raw data, wait a minute\")\n",
    "db.upsert_table(df, \"invoices\")\n",
    "\n",
    "print('###########################################################################################')\n",
    "print(\"🕒 Quering the full cleaned data to create the Kimball Model\")\n",
    "# Execute a base SQL query and get the data to provide to the model\n",
    "df_clean = db.execute_sql_file(\"src/utils/queries/base_query.sql\")\n",
    "\n",
    "print('###########################################################################################')\n",
    "print(\"🕒 Creating tables usin Kimball model (Data warehouse)\")\n",
    "# Generate the data model from the data (Kimball model)\n",
    "dim_product, dim_customer, dim_date, dim_country, fact_sales = model.generate_model(\n",
    "    df_clean\n",
    ")\n",
    "\n",
    "print(\"🕒Uploading model to PostgreSQL, wait a minute\")\n",
    "# Upload the generated data model to PostgreSQL\n",
    "loader.upload_model(dim_product, dim_customer, dim_date, dim_country, fact_sales)\n",
    "\n",
    "print('###########################################################################################')\n",
    "print(\"🟢 ETL process completed\")\n",
    "\n",
    "print('###########################################################################################')\n",
    "print(\"🕒 Now the aggregations of data\")\n",
    "# Aggregations\n",
    "## This query calculates year-over-year sales growth by country using CTEs.\n",
    "## It first aggregates total sales by country and year, then computes the percentage growth compared to the previous year.\n",
    "\n",
    "df_agg_1 = db.execute_sql_file(\"src/utils/queries/growth_yoy_by_country.sql\")\n",
    "print(\"First aggregation of data\")\n",
    "print(df_agg_1)\n",
    "\n",
    "## This query performs a cohort analysis by identifying the first purchase month of each customer\n",
    "## and tracking their purchasing behavior over time to measure retention.\n",
    "\n",
    "df_agg_2 = db.execute_sql_file(\"src/utils/queries/cohort_analysis.sql\")\n",
    "print(\"Second aggregation of data\")\n",
    "print(df_agg_2)\n",
    "\n",
    "## This query analyzes the top 20 products based on total revenue,\n",
    "## categorizing them into quartiles based on the number of invoices they appear in.\n",
    "\n",
    "df_agg_3 = db.execute_sql_file(\"src/utils/queries/classification_products.sql\")\n",
    "print(\"Third aggregation of data\")\n",
    "print(df_agg_3)"
   ]
  },
  {
   "cell_type": "markdown",
   "metadata": {},
   "source": [
    "Enjoy with the generator, it converts Natural language to Dataframe with real data using the tables generated from Kimball Model.\n",
    "\n",
    "Use simple queries."
   ]
  },
  {
   "cell_type": "code",
   "execution_count": null,
   "metadata": {},
   "outputs": [],
   "source": [
    "print('###########################################################################################')\n",
    "print(\n",
    "    \"⚠️ Now try the generator with some queries, the generator use your NLP input to generate the table based on the Kimball model with the real data\"\n",
    ")\n",
    "# BETA MODE: Generate the table from input of the user\n",
    "# try: \"top 10 products sold in December 2009\"\n",
    "\n",
    "user_input = input(\"Please try with a simple query like 'top 10 products sold in December 2009': \")\n",
    "df_generated = generator.generate_table(user_input)\n",
    "\n",
    "print(\"📊 Generated table:\")\n",
    "print(df_generated)"
   ]
  },
  {
   "cell_type": "code",
   "execution_count": 10,
   "metadata": {},
   "outputs": [
    {
     "name": "stdout",
     "output_type": "stream",
     "text": [
      "🔒 Connection closed\n",
      "Empty DataFrame\n",
      "Columns: []\n",
      "Index: []\n"
     ]
    }
   ],
   "source": [
    "print(db.execute_query(\"select table_name from information_schema.tables where table_schema='public'\"))"
   ]
  },
  {
   "cell_type": "code",
   "execution_count": 9,
   "metadata": {},
   "outputs": [
    {
     "name": "stdout",
     "output_type": "stream",
     "text": [
      "✅ Query executed successfully\n",
      "🔒 Connection closed\n",
      "✅ Query executed successfully\n",
      "🔒 Connection closed\n",
      "✅ Query executed successfully\n",
      "🔒 Connection closed\n",
      "✅ Query executed successfully\n",
      "🔒 Connection closed\n",
      "✅ Query executed successfully\n",
      "🔒 Connection closed\n",
      "✅ Query executed successfully\n",
      "🔒 Connection closed\n",
      "✅ Query executed successfully\n",
      "🔒 Connection closed\n"
     ]
    }
   ],
   "source": [
    "db.execute_query(\"DROP TABLE invoices\")\n",
    "db.execute_query(\"DROP TABLE dim_product\")\n",
    "db.execute_query(\"DROP TABLE dim_customer\")\n",
    "db.execute_query(\"DROP TABLE dim_date\")\n",
    "db.execute_query(\"DROP TABLE dim_country\")\n",
    "db.execute_query(\"DROP TABLE fact_sales\")\n",
    "db.execute_query(\"DROP TABLE test_table\")"
   ]
  }
 ],
 "metadata": {
  "kernelspec": {
   "display_name": "venv",
   "language": "python",
   "name": "python3"
  },
  "language_info": {
   "codemirror_mode": {
    "name": "ipython",
    "version": 3
   },
   "file_extension": ".py",
   "mimetype": "text/x-python",
   "name": "python",
   "nbconvert_exporter": "python",
   "pygments_lexer": "ipython3",
   "version": "3.12.2"
  }
 },
 "nbformat": 4,
 "nbformat_minor": 2
}
